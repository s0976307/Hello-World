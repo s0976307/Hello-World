{
  "nbformat": 4,
  "nbformat_minor": 0,
  "metadata": {
    "colab": {
      "provenance": [],
      "authorship_tag": "ABX9TyOAXYMBPK93fWun60RmXOG3",
      "include_colab_link": true
    },
    "kernelspec": {
      "name": "python3",
      "display_name": "Python 3"
    },
    "language_info": {
      "name": "python"
    }
  },
  "cells": [
    {
      "cell_type": "markdown",
      "metadata": {
        "id": "view-in-github",
        "colab_type": "text"
      },
      "source": [
        "<a href=\"https://colab.research.google.com/github/s0976307/Hello-World/blob/main/!CIS320_ENOTES.ipynb\" target=\"_parent\"><img src=\"https://colab.research.google.com/assets/colab-badge.svg\" alt=\"Open In Colab\"/></a>"
      ]
    },
    {
      "cell_type": "code",
      "source": [
        "10**10"
      ],
      "metadata": {
        "colab": {
          "base_uri": "https://localhost:8080/"
        },
        "id": "nUy4KTh0R7E1",
        "outputId": "56849dff-91c8-46fa-8ea8-38fed8eb6107"
      },
      "execution_count": null,
      "outputs": [
        {
          "output_type": "execute_result",
          "data": {
            "text/plain": [
              "10000000000"
            ]
          },
          "metadata": {},
          "execution_count": 3
        }
      ]
    },
    {
      "cell_type": "markdown",
      "source": [],
      "metadata": {
        "id": "eV00beOJpDbg"
      }
    },
    {
      "cell_type": "code",
      "source": [
        "10*10"
      ],
      "metadata": {
        "colab": {
          "base_uri": "https://localhost:8080/"
        },
        "id": "tnHVYjqwR3-r",
        "outputId": "1b7888b0-5652-4001-c180-8619f5aa462e"
      },
      "execution_count": null,
      "outputs": [
        {
          "output_type": "execute_result",
          "data": {
            "text/plain": [
              "100"
            ]
          },
          "metadata": {},
          "execution_count": 4
        }
      ]
    },
    {
      "cell_type": "code",
      "source": [],
      "metadata": {
        "id": "MBDrquczSVbx"
      },
      "execution_count": null,
      "outputs": []
    },
    {
      "cell_type": "code",
      "source": [
        "4*3\n"
      ],
      "metadata": {
        "colab": {
          "base_uri": "https://localhost:8080/"
        },
        "id": "nEALcjd7RLTo",
        "outputId": "9965f0d8-29a7-4f81-b51c-1b8193d7cc78"
      },
      "execution_count": null,
      "outputs": [
        {
          "output_type": "execute_result",
          "data": {
            "text/plain": [
              "12"
            ]
          },
          "metadata": {},
          "execution_count": 1
        }
      ]
    },
    {
      "cell_type": "code",
      "execution_count": null,
      "metadata": {
        "id": "enaTQN9so-bI"
      },
      "outputs": [],
      "source": [
        "hello world"
      ]
    },
    {
      "cell_type": "markdown",
      "source": [
        "##Bandwidth of Hearing"
      ],
      "metadata": {
        "id": "-EjhYA-UV3pf"
      }
    },
    {
      "cell_type": "code",
      "source": [
        "(100*365*24*60*60)*(40000*16*2)/(10**12)"
      ],
      "metadata": {
        "id": "5lgJwbQfR2at",
        "colab": {
          "base_uri": "https://localhost:8080/"
        },
        "outputId": "7095a6cb-801b-4663-a395-ba1a50f6838f"
      },
      "execution_count": null,
      "outputs": [
        {
          "output_type": "execute_result",
          "data": {
            "text/plain": [
              "4036.608"
            ]
          },
          "metadata": {},
          "execution_count": 1
        }
      ]
    },
    {
      "cell_type": "code",
      "source": [
        "print hello world"
      ],
      "metadata": {
        "colab": {
          "base_uri": "https://localhost:8080/",
          "height": 140
        },
        "id": "wWNinYUwbNlp",
        "outputId": "ba67b571-11f8-4f68-aa4d-06de9ad203ad"
      },
      "execution_count": null,
      "outputs": [
        {
          "output_type": "error",
          "ename": "SyntaxError",
          "evalue": "Missing parentheses in call to 'print'. Did you mean print(...)? (<ipython-input-2-b65e1b1a5b69>, line 1)",
          "traceback": [
            "\u001b[0;36m  File \u001b[0;32m\"<ipython-input-2-b65e1b1a5b69>\"\u001b[0;36m, line \u001b[0;32m1\u001b[0m\n\u001b[0;31m    print hello world\u001b[0m\n\u001b[0m    ^\u001b[0m\n\u001b[0;31mSyntaxError\u001b[0m\u001b[0;31m:\u001b[0m Missing parentheses in call to 'print'. Did you mean print(...)?\n"
          ]
        }
      ]
    },
    {
      "cell_type": "code",
      "source": [],
      "metadata": {
        "id": "bJFM0XoTifGW"
      },
      "execution_count": null,
      "outputs": []
    },
    {
      "cell_type": "markdown",
      "source": [
        "**1/22 Mondays lecture\n",
        "print(hello world)"
      ],
      "metadata": {
        "id": "8CY-q1fbignM"
      }
    },
    {
      "cell_type": "code",
      "source": [
        "print('hello world')"
      ],
      "metadata": {
        "colab": {
          "base_uri": "https://localhost:8080/"
        },
        "id": "sPaLDhpUi8Kw",
        "outputId": "ad1d8251-f40a-4fcd-bbe1-ec76a7a593b4"
      },
      "execution_count": null,
      "outputs": [
        {
          "output_type": "stream",
          "name": "stdout",
          "text": [
            "hello world\n"
          ]
        }
      ]
    },
    {
      "cell_type": "markdown",
      "source": [
        "**1/24 CIS320 Notes\n"
      ],
      "metadata": {
        "id": "LffdeOnYjaPQ"
      }
    },
    {
      "cell_type": "markdown",
      "source": [
        "*Bandwidthg of Human Audio"
      ],
      "metadata": {
        "id": "jaansOp7mNxM"
      }
    },
    {
      "cell_type": "code",
      "source": [],
      "metadata": {
        "id": "7SyqaZzNjiBf"
      },
      "execution_count": null,
      "outputs": []
    },
    {
      "cell_type": "code",
      "source": [
        "# Amout of data over 100 years\n",
        "# (years * days * hours * minutes *sec) * (sampling rate * resolution)\n",
        "(100 * 365 * 24 * 60 * 60 * 40000 * 16)/(10**12)\n"
      ],
      "metadata": {
        "colab": {
          "base_uri": "https://localhost:8080/"
        },
        "id": "ZH2E0jSSmayY",
        "outputId": "54dfb80f-9d8b-421c-89bd-5ae06a05c375"
      },
      "execution_count": null,
      "outputs": [
        {
          "output_type": "execute_result",
          "data": {
            "text/plain": [
              "2018.304"
            ]
          },
          "metadata": {},
          "execution_count": 6
        }
      ]
    },
    {
      "cell_type": "code",
      "source": [
        "##1/26"
      ],
      "metadata": {
        "id": "IGzgk3pxjM2N"
      },
      "execution_count": null,
      "outputs": []
    },
    {
      "cell_type": "markdown",
      "source": [
        "## Class *Non*"
      ],
      "metadata": {
        "id": "CZIj9HKZjdux"
      }
    },
    {
      "cell_type": "code",
      "source": [
        "**1/29 NOTES\n"
      ],
      "metadata": {
        "colab": {
          "base_uri": "https://localhost:8080/",
          "height": 141
        },
        "id": "r4BnCBMaQ0Tk",
        "outputId": "a0e716d6-3f22-4164-c114-1cb921bf2a51"
      },
      "execution_count": 1,
      "outputs": [
        {
          "output_type": "error",
          "ename": "SyntaxError",
          "evalue": "invalid syntax (<ipython-input-1-ac4862e3366a>, line 1)",
          "traceback": [
            "\u001b[0;36m  File \u001b[0;32m\"<ipython-input-1-ac4862e3366a>\"\u001b[0;36m, line \u001b[0;32m1\u001b[0m\n\u001b[0;31m    **1/29 NOTES\u001b[0m\n\u001b[0m    ^\u001b[0m\n\u001b[0;31mSyntaxError\u001b[0m\u001b[0;31m:\u001b[0m invalid syntax\n"
          ]
        }
      ]
    },
    {
      "cell_type": "markdown",
      "source": [],
      "metadata": {
        "id": "VGXciWffQyql"
      }
    }
  ]
}